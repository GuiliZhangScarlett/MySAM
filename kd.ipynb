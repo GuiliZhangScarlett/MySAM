{
 "cells": [
  {
   "cell_type": "code",
   "execution_count": 1,
   "id": "f46ee2e0",
   "metadata": {},
   "outputs": [],
   "source": [
    "from torchvision.datasets import ImageFolder\n",
    "from torchvision import transforms\n",
    "from torch.utils.data import DataLoader\n",
    "import os\n",
    "import torch \n",
    "\n",
    "#data_dir = \"/home/ubuntu/MySAM/sam_data/sa_000020/image_dir\"\n",
    "data_dir = \"/home/ubuntu/MySAM/sam_data/mini_image_dir/image_dir\" #fix me\n",
    "image_path_iter = DataLoader(os.listdir(data_dir), batch_size=2, shuffle=True)\n",
    "\n",
    "import cv2\n",
    "def load_image(image_path, root_dir):\n",
    "    #image_path = \"/home/ubuntu/sam_data/sa_000020/mini_image_dir/train/sam:1.jpg\"\n",
    "    image = cv2.imread(''.join([root_dir, '/', image_path]))\n",
    "    image = cv2.cvtColor(image, cv2.COLOR_BGR2RGB)\n",
    "    return torch.from_numpy(image).permute(2, 0, 1)\n",
    "\n",
    "def load_embedding(image_path, embedding_dir):\n",
    "    return torch.load(''.join([embedding_dir, '/', image_path.split('.')[0], '.pth'])) \n",
    "\n",
    "paths = data_dir.split('/')\n",
    "paths[-1] = 'embedding_dir'\n",
    "embedding_dir = \"/\".join(paths)\n",
    "if not os.path.exists(embedding_dir):\n",
    "    raise Exception(\"Directory not exist!\")\n",
    "    "
   ]
  },
  {
   "cell_type": "code",
   "execution_count": 2,
   "id": "72947e2f",
   "metadata": {},
   "outputs": [],
   "source": [
    "from student_modeling import TinyViT\n",
    "student_image_encoder=TinyViT(img_size=1024, in_chans=3, num_classes=1000,\n",
    "                embed_dims=[64, 128, 160, 320],\n",
    "                depths=[2, 2, 6, 2],\n",
    "                num_heads=[2, 4, 5, 10],\n",
    "                window_sizes=[7, 7, 14, 7],\n",
    "                mlp_ratio=4.,\n",
    "                drop_rate=0.,\n",
    "                drop_path_rate=0.0,\n",
    "                use_checkpoint=False,\n",
    "                mbconv_expand_ratio=4.0,\n",
    "                local_conv_size=3,\n",
    "                layer_lr_decay=0.8\n",
    "            )\n",
    "\n",
    "device = torch.device('cuda' if torch.cuda.is_available() else 'cpu')\n",
    "_ = student_image_encoder.to(device)"
   ]
  },
  {
   "cell_type": "code",
   "execution_count": 3,
   "id": "34180ec9",
   "metadata": {},
   "outputs": [],
   "source": [
    "from torch.nn import functional as F\n",
    "pixel_mean = torch.tensor([[[123.6750]], [[116.2800]], [[103.5300]]]).to(device)\n",
    "pixel_std = torch.tensor([[[58.3950]], [[57.1200]], [[57.3750]]]).to(device)\n",
    "\n",
    "def preprocess(x, pixel_mean, pixel_std):\n",
    "    x = (x - pixel_mean) / pixel_std\n",
    "    # Pad\n",
    "    h, w = x.shape[-2:]\n",
    "    padh = 1024 - h\n",
    "    padw = 1024 - w\n",
    "    x = F.pad(x, (0, padw, 0, padh))\n",
    "    return x"
   ]
  },
  {
   "cell_type": "code",
   "execution_count": 4,
   "id": "1d5eb5a7",
   "metadata": {},
   "outputs": [
    {
     "name": "stdout",
     "output_type": "stream",
     "text": [
      "epoch 1, loss 1.0094\n"
     ]
    }
   ],
   "source": [
    "num_epochs = 1\n",
    "criterion = torch.nn.MSELoss()\n",
    "optimizer = torch.optim.Adam(student_image_encoder.parameters(), lr=0.001)\n",
    "for epoch in range(num_epochs):\n",
    "    student_image_encoder.train()\n",
    "    train_loss = 0.0\n",
    "    for batch_path in image_path_iter:\n",
    "        input_images = torch.stack([preprocess(load_image(path, data_dir).to(device), pixel_mean, pixel_std) for path in batch_path])\n",
    "        embedding = student_image_encoder(input_images)\n",
    "        target_embedding = torch.stack([load_embedding(path, embedding_dir).to(device) for path in batch_path])\n",
    "        loss = criterion(embedding, target_embedding)\n",
    "        loss.backward()\n",
    "        optimizer.step()\n",
    "        train_loss += loss.item() * input_images.shape[0]\n",
    "    print('epoch %d, loss %.4f' % (epoch + 1, train_loss / len(image_path_iter.dataset)))"
   ]
  }
 ],
 "metadata": {
  "kernelspec": {
   "display_name": "Python 3 (ipykernel)",
   "language": "python",
   "name": "python3"
  },
  "language_info": {
   "codemirror_mode": {
    "name": "ipython",
    "version": 3
   },
   "file_extension": ".py",
   "mimetype": "text/x-python",
   "name": "python",
   "nbconvert_exporter": "python",
   "pygments_lexer": "ipython3",
   "version": "3.8.10"
  }
 },
 "nbformat": 4,
 "nbformat_minor": 5
}
