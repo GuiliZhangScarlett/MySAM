{
 "cells": [
  {
   "cell_type": "code",
   "execution_count": 1,
   "id": "8f08cdf5",
   "metadata": {},
   "outputs": [],
   "source": [
    "from torchvision import transforms\n",
    "from torch.utils.data import DataLoader\n",
    "import os\n",
    "project_root = \"/home/ubuntu/MySAM\"\n",
    "data_path = 'sam_data'\n",
    "batch_size=1"
   ]
  },
  {
   "cell_type": "code",
   "execution_count": 2,
   "id": "ce9c39bc",
   "metadata": {},
   "outputs": [
    {
     "name": "stdout",
     "output_type": "stream",
     "text": [
      "sa_000028.tar\n",
      "sa_000030.tar\n",
      "sa_000021.tar\n",
      "sa_000029.tar\n",
      "sa_000025.tar\n",
      "sa_000020.tar\n",
      "sa_000023.tar\n",
      "rm.sh\n",
      "sa_000022.tar\n",
      "sa_000026.tar\n",
      "sa_000024.tar\n",
      "sa_000027.tar\n",
      "sa_000028/\n",
      "sa_000028/sa_233338.jpg\n",
      "sa_000028/sa_233338.json\n",
      "sa_000028/sa_224587.jpg\n",
      "sa_000028/sa_224587.json\n",
      "sa_000030/\n",
      "sa_000030/sa_233338.jpg\n",
      "sa_000030/sa_233338.json\n",
      "sa_000030/sa_224587.jpg\n",
      "sa_000030/sa_224587.json\n",
      "sa_000021/\n",
      "sa_000021/sa_233338.jpg\n",
      "sa_000021/sa_233338.json\n",
      "sa_000021/sa_224587.jpg\n",
      "sa_000021/sa_224587.json\n",
      "sa_000029/\n",
      "sa_000029/sa_233338.jpg\n",
      "sa_000029/sa_233338.json\n",
      "sa_000029/sa_224587.jpg\n",
      "sa_000029/sa_224587.json\n",
      "sa_000025/\n",
      "sa_000025/sa_233338.jpg\n",
      "sa_000025/sa_233338.json\n",
      "sa_000025/sa_224587.jpg\n",
      "sa_000025/sa_224587.json\n",
      "sa_000020/\n",
      "sa_000020/sa_233338.jpg\n",
      "sa_000020/sa_233338.json\n",
      "sa_000020/sa_224587.jpg\n",
      "sa_000020/sa_224587.json\n",
      "sa_000023/\n",
      "sa_000023/sa_233338.jpg\n",
      "sa_000023/sa_233338.json\n",
      "sa_000023/sa_224587.jpg\n",
      "sa_000023/sa_224587.json\n",
      "sa_000022/\n",
      "sa_000022/sa_233338.jpg\n",
      "sa_000022/sa_233338.json\n",
      "sa_000022/sa_224587.jpg\n",
      "sa_000022/sa_224587.json\n",
      "sa_000026/\n",
      "sa_000026/sa_233338.jpg\n",
      "sa_000026/sa_233338.json\n",
      "sa_000026/sa_224587.jpg\n",
      "sa_000026/sa_224587.json\n",
      "sa_000024/\n",
      "sa_000024/sa_233338.jpg\n",
      "sa_000024/sa_233338.json\n",
      "sa_000024/sa_224587.jpg\n",
      "sa_000024/sa_224587.json\n"
     ]
    },
    {
     "data": {
      "text/plain": [
       "['sa_000028',\n",
       " 'sa_000030',\n",
       " 'sa_000021',\n",
       " 'sa_000029',\n",
       " 'sa_000025',\n",
       " 'sa_000020',\n",
       " 'sa_000023',\n",
       " 'sa_000022',\n",
       " 'sa_000026',\n",
       " 'sa_000024']"
      ]
     },
     "execution_count": 2,
     "metadata": {},
     "output_type": "execute_result"
    }
   ],
   "source": [
    "import re\n",
    "tar_files = []\n",
    "for file in os.listdir(f\"{project_root}/{data_path}\"):\n",
    "    print(file)\n",
    "    if re.fullmatch(r'^sa_000\\d{3}\\.tar$', file) is not None:\n",
    "        tar_files.append(file)\n",
    "if len(tar_files) < 10:\n",
    "    raise Exception(\"At least 10 directory of images should be provided!\")\n",
    "tar_files = tar_files[:10] # use 10 directory only\n",
    "os.chdir(f\"{project_root}/{data_path}\")\n",
    "for i, tar_file in enumerate(tar_files):#Uncompress each compressed image directory and separate images and promts\n",
    "    assert(os.system(f\"tar -xvf {tar_file}\") == 0)\n",
    "    assert(os.system(f\"mkdir {tar_file[:-4]}/image_dir\") == 0)\n",
    "    assert(os.system(f\"mkdir {tar_file[:-4]}/prompt_dir\") == 0)\n",
    "    assert(os.system(f\"mv {tar_file[:-4]}/*.jpg {tar_file[:-4]}/image_dir\") == 0)\n",
    "    assert(os.system(f\"mv {tar_file[:-4]}/*.json {tar_file[:-4]}/prompt_dir\") == 0)\n",
    "    tar_files[i] = tar_file[:-4]\n",
    "tar_files"
   ]
  },
  {
   "cell_type": "code",
   "execution_count": 3,
   "id": "1c930746",
   "metadata": {},
   "outputs": [],
   "source": [
    "tar_files = tar_files[:2]"
   ]
  },
  {
   "cell_type": "code",
   "execution_count": 4,
   "id": "8ed692b0",
   "metadata": {},
   "outputs": [],
   "source": [
    "import cv2\n",
    "def load_image(image_path, root_dir):\n",
    "    #image_path = \"/home/ubuntu/sam_data/sa_000020/mini_image_dir/train/sam:1.jpg\"\n",
    "    image = cv2.imread(''.join([root_dir, '/', image_path]))\n",
    "    image = cv2.cvtColor(image, cv2.COLOR_BGR2RGB)\n",
    "    return torch.from_numpy(image).permute(2, 0, 1)\n",
    "    "
   ]
  },
  {
   "cell_type": "code",
   "execution_count": 5,
   "id": "d8688e89",
   "metadata": {},
   "outputs": [
    {
     "name": "stdout",
     "output_type": "stream",
     "text": [
      "process one batch\n",
      "process one batch\n",
      "process one batch\n",
      "process one batch\n"
     ]
    }
   ],
   "source": [
    "import torch\n",
    "with torch.no_grad():\n",
    "    from build_sam import sam_model_registry\n",
    "    teacher_model_checkpoint_path = f'{project_root}/model_checkpoint/sam_vit_h_4b8939.pth'\n",
    "    teacher_model = sam_model_registry['default'](teacher_model_checkpoint_path)\n",
    "    device = torch.device('cuda' if torch.cuda.is_available() else 'cpu')\n",
    "    _ = teacher_model.to(device)\n",
    "    for file in tar_files:\n",
    "        data_dir = '/'.join([project_root, data_path, file, 'image_dir'])\n",
    "        embedding_dir  = '/'.join([project_root, data_path, file, 'embedding_dir'])\n",
    "        if not os.path.exists(embedding_dir):\n",
    "            os.mkdir(embedding_dir)\n",
    "        image_path_iter = DataLoader(os.listdir(data_dir), batch_size=batch_size, shuffle=True)\n",
    "        for batch_path in image_path_iter:\n",
    "            input_images = torch.stack([teacher_model.preprocess(load_image(path, data_dir).to(device)) for path in batch_path])\n",
    "            #input_images = torch.stack([teacher_model.preprocess(image[0].to(device)) for image in batch_image])\n",
    "            #pdb.set_trace()\n",
    "            teacher_emd = teacher_model.image_encoder(input_images)\n",
    "            for image_file_name, embed in zip(batch_path, teacher_emd):\n",
    "                target_path = ''.join([embedding_dir, '/', image_file_name.split('.')[0], '.pth'])\n",
    "                torch.save(embed, target_path)\n",
    "            print(\"process one batch\")\n",
    "    "
   ]
  },
  {
   "cell_type": "code",
   "execution_count": null,
   "id": "6908a2f6",
   "metadata": {},
   "outputs": [],
   "source": []
  }
 ],
 "metadata": {
  "kernelspec": {
   "display_name": "Python 3 (ipykernel)",
   "language": "python",
   "name": "python3"
  },
  "language_info": {
   "codemirror_mode": {
    "name": "ipython",
    "version": 3
   },
   "file_extension": ".py",
   "mimetype": "text/x-python",
   "name": "python",
   "nbconvert_exporter": "python",
   "pygments_lexer": "ipython3",
   "version": "3.8.10"
  }
 },
 "nbformat": 4,
 "nbformat_minor": 5
}
